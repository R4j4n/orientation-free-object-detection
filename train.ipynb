{
 "cells": [
  {
   "attachments": {},
   "cell_type": "markdown",
   "metadata": {},
   "source": [
    "### Traning orientation free object detection on custom dataset : \n",
    "\n",
    "The data must be in following structure : \n",
    "```\n",
    "📦custom_data\n",
    " ┣ 🖼 image_1.jpg\n",
    " ┣ 📜 image_1.xml\n",
    " ┃ \n",
    " .\n",
    " .\n",
    " ┣ 🖼 image_n.jpg\n",
    " ┗ 📜 image_n.xml\n",
    "  \n",
    "\n",
    "```\n"
   ]
  },
  {
   "attachments": {},
   "cell_type": "markdown",
   "metadata": {},
   "source": [
    "<h3 align=\"center\">Step 1:</h3>\n",
    "<h4 align=\"center\">Download or load the dataset.</h4>\n"
   ]
  },
  {
   "cell_type": "code",
   "execution_count": null,
   "metadata": {},
   "outputs": [],
   "source": [
    "None"
   ]
  },
  {
   "attachments": {},
   "cell_type": "markdown",
   "metadata": {},
   "source": [
    "<h3 align=\"center\">Step 2:</h3>\n",
    "<h4 align=\"center\">Convert Data to required format.</h4>\n",
    "\n",
    "Images and XML annotation data are located in a directory named data_1. The class files are located in classes.txt. Download the script to convert the annotation data and convert it. The script will convert all *.xml files under the directory if you specify a directory in the –path field."
   ]
  },
  {
   "cell_type": "code",
   "execution_count": null,
   "metadata": {},
   "outputs": [],
   "source": [
    "!python3 yolov5_obb/yolov5-utils/voc2yolo5_obb.py --path data/custom_data --class-file data/classes.txt"
   ]
  },
  {
   "attachments": {},
   "cell_type": "markdown",
   "metadata": {},
   "source": [
    "Next, the data is split into training and test data. yolov5_obb requires the following directory structure. \n",
    "```\n",
    "├── images\n",
    "│   ├── train\n",
    "│   │   ├── 0123.jpg\n",
    "│   │   ├── ...\n",
    "│   │   └── 4567.jpg\n",
    "│   └── valid\n",
    "│       ├── 89ab.jpg\n",
    "│       ├── ...\n",
    "│       └── cdef.jpg\n",
    "└── labelTxt\n",
    "    ├── train\n",
    "    │   ├── 0123.txt\n",
    "    │   ├── ...\n",
    "    │   └── 4567.txt\n",
    "    └── valid\n",
    "        ├── 89ab.txt\n",
    "        ├── ...\n",
    "        └── cdef.txt\n",
    "```"
   ]
  },
  {
   "cell_type": "code",
   "execution_count": null,
   "metadata": {},
   "outputs": [],
   "source": [
    "!rm -rf data/processed_data\n",
    "!python3 yolov5_obb/yolov5-utils/data_split.py --datapath data/dota_rajan --outpath data/processed_data"
   ]
  },
  {
   "cell_type": "code",
   "execution_count": null,
   "metadata": {},
   "outputs": [],
   "source": [
    "!(cd data/processed_data;ln -s labels labelTxt)"
   ]
  },
  {
   "cell_type": "code",
   "execution_count": null,
   "metadata": {},
   "outputs": [],
   "source": [
    "# %%bash\n",
    "# cat << EOS > yolov5_obb/data/custom_train.yaml\n",
    "\n",
    "# train: /home/ml/rajan/YOLO/data/processed_data/images/train/    # train images (relative to 'path') \n",
    "# val:  /home/ml/rajan/YOLO/data/processed_data/images/valid/   # val images (relative to 'path') \n",
    "\n",
    "# # Classes\n",
    "# nc: 2  # number of classes\n",
    "# names: [\n",
    "#   'stamp',\n",
    "#   'uno',\n",
    "# ]\n",
    "# EOS"
   ]
  },
  {
   "cell_type": "code",
   "execution_count": null,
   "metadata": {},
   "outputs": [],
   "source": [
    "\n",
    "%%bash\n",
    "cat << EOS > yolov5_obb/data/rajan_dota.yaml\n",
    "\n",
    "train: /home/ml/rajan/YOLO/data/processed_data/images/train/    # train images (relative to 'path') \n",
    "val:  /home/ml/rajan/YOLO/data/processed_data/images/valid/   # val images (relative to 'path') \n",
    "\n",
    "# Classes\n",
    "nc: 15  # number of classes\n",
    "names: ['plane', 'baseball-diamond', 'bridge', 'ground-track-field', 'small-vehicle', \n",
    "        'large-vehicle', 'ship', 'tennis-court', 'basketball-court', 'storage-tank',  \n",
    "        'soccer-ball-field', 'roundabout', 'harbor', 'swimming-pool', 'helicopter']  #\n",
    "\n",
    "EOS"
   ]
  },
  {
   "cell_type": "code",
   "execution_count": null,
   "metadata": {},
   "outputs": [],
   "source": [
    "!pip install 'protobuf<=3.20.1' --force-reinstall\n",
    "\n",
    "\n",
    "%cd yolov5_obb\n",
    "!python3 train.py --data data/rajan_dota.yaml \\\n",
    "    --cfg models/yolov5m.yaml\\\n",
    "    --batch-size 8\\\n",
    "    --device 0,1\\\n",
    "    --patience 100\\\n",
    "    --epochs 200\\\n",
    "    --project /home/ml/rajan/YOLO/results/train"
   ]
  },
  {
   "cell_type": "code",
   "execution_count": null,
   "metadata": {},
   "outputs": [],
   "source": [
    "# inference"
   ]
  },
  {
   "cell_type": "code",
   "execution_count": 1,
   "metadata": {},
   "outputs": [
    {
     "name": "stdout",
     "output_type": "stream",
     "text": [
      "Namespace(weights=['/home/ml/rajan/YOLO/results/train/exp3/weights/best.pt'], source='/home/ml/rajan/YOLO/data/processed_data/images/valid', imgsz=[840], conf_thres=0.2, iou_thres=0.2, max_det=1000, device='0', view_img=False, save_txt=False, save_conf=False, save_crop=False, nosave=False, classes=None, agnostic_nms=False, augment=False, visualize=False, update=False, project='/home/ml/rajan/YOLO/results/infer/', name='exp', exist_ok=False, line_thickness=2, hide_labels=True, hide_conf=True, half=False, dnn=False)\n",
      "\u001b[34m\u001b[1mdetect: \u001b[0mweights=['/home/ml/rajan/YOLO/results/train/exp3/weights/best.pt'], source=/home/ml/rajan/YOLO/data/processed_data/images/valid, imgsz=[840, 840], conf_thres=0.2, iou_thres=0.2, max_det=1000, device=0, view_img=False, save_txt=False, save_conf=False, save_crop=False, nosave=False, classes=None, agnostic_nms=False, augment=False, visualize=False, update=False, project=/home/ml/rajan/YOLO/results/infer/, name=exp, exist_ok=False, line_thickness=2, hide_labels=True, hide_conf=True, half=False, dnn=False\n",
      "Traceback (most recent call last):\n",
      "  File \"/home/rjn/.conda/envs/yolo/lib/python3.9/pathlib.py\", line 1323, in mkdir\n",
      "    self._accessor.mkdir(self, mode)\n",
      "FileNotFoundError: [Errno 2] No such file or directory: '/home/ml/rajan/YOLO/results/infer/exp'\n",
      "\n",
      "During handling of the above exception, another exception occurred:\n",
      "\n",
      "Traceback (most recent call last):\n",
      "  File \"/home/rjn/.conda/envs/yolo/lib/python3.9/pathlib.py\", line 1323, in mkdir\n",
      "    self._accessor.mkdir(self, mode)\n",
      "FileNotFoundError: [Errno 2] No such file or directory: '/home/ml/rajan/YOLO/results/infer'\n",
      "\n",
      "During handling of the above exception, another exception occurred:\n",
      "\n",
      "Traceback (most recent call last):\n",
      "  File \"/home/rjn/.conda/envs/yolo/lib/python3.9/pathlib.py\", line 1323, in mkdir\n",
      "    self._accessor.mkdir(self, mode)\n",
      "FileNotFoundError: [Errno 2] No such file or directory: '/home/ml/rajan/YOLO/results'\n",
      "\n",
      "During handling of the above exception, another exception occurred:\n",
      "\n",
      "Traceback (most recent call last):\n",
      "  File \"/home/rjn/.conda/envs/yolo/lib/python3.9/pathlib.py\", line 1323, in mkdir\n",
      "    self._accessor.mkdir(self, mode)\n",
      "FileNotFoundError: [Errno 2] No such file or directory: '/home/ml/rajan/YOLO'\n",
      "\n",
      "During handling of the above exception, another exception occurred:\n",
      "\n",
      "Traceback (most recent call last):\n",
      "  File \"/home/rjn/.conda/envs/yolo/lib/python3.9/pathlib.py\", line 1323, in mkdir\n",
      "    self._accessor.mkdir(self, mode)\n",
      "FileNotFoundError: [Errno 2] No such file or directory: '/home/ml/rajan'\n",
      "\n",
      "During handling of the above exception, another exception occurred:\n",
      "\n",
      "Traceback (most recent call last):\n",
      "  File \"/home/rjn/Documents/detection/17/YOLO/yolov5_obb/detect.py\", line 254, in <module>\n",
      "    main(opt)\n",
      "  File \"/home/rjn/Documents/detection/17/YOLO/yolov5_obb/detect.py\", line 249, in main\n",
      "    run(**vars(opt))\n",
      "  File \"/home/rjn/.conda/envs/yolo/lib/python3.9/site-packages/torch/autograd/grad_mode.py\", line 28, in decorate_context\n",
      "    return func(*args, **kwargs)\n",
      "  File \"/home/rjn/Documents/detection/17/YOLO/yolov5_obb/detect.py\", line 76, in run\n",
      "    (save_dir / 'labels' if save_txt else save_dir).mkdir(parents=True, exist_ok=True)  # make dir\n",
      "  File \"/home/rjn/.conda/envs/yolo/lib/python3.9/pathlib.py\", line 1327, in mkdir\n",
      "    self.parent.mkdir(parents=True, exist_ok=True)\n",
      "  File \"/home/rjn/.conda/envs/yolo/lib/python3.9/pathlib.py\", line 1327, in mkdir\n",
      "    self.parent.mkdir(parents=True, exist_ok=True)\n",
      "  File \"/home/rjn/.conda/envs/yolo/lib/python3.9/pathlib.py\", line 1327, in mkdir\n",
      "    self.parent.mkdir(parents=True, exist_ok=True)\n",
      "  [Previous line repeated 2 more times]\n",
      "  File \"/home/rjn/.conda/envs/yolo/lib/python3.9/pathlib.py\", line 1323, in mkdir\n",
      "    self._accessor.mkdir(self, mode)\n",
      "PermissionError: [Errno 13] Permission denied: '/home/ml'\n"
     ]
    }
   ],
   "source": [
    "!python yolov5_obb/detect.py\\\n",
    "    --weights /home/ml/rajan/YOLO/results/train/exp3/weights/best.pt\\\n",
    "    --source /home/ml/rajan/YOLO/data/processed_data/images/valid\\\n",
    "    --device 0\\\n",
    "    --hide-conf\\\n",
    "    --hide-labels\\\n",
    "    --project /home/ml/rajan/YOLO/results/infer/ "
   ]
  },
  {
   "cell_type": "code",
   "execution_count": null,
   "metadata": {},
   "outputs": [],
   "source": []
  },
  {
   "cell_type": "code",
   "execution_count": null,
   "metadata": {},
   "outputs": [],
   "source": []
  }
 ],
 "metadata": {
  "kernelspec": {
   "display_name": "yolo",
   "language": "python",
   "name": "python3"
  },
  "language_info": {
   "codemirror_mode": {
    "name": "ipython",
    "version": 3
   },
   "file_extension": ".py",
   "mimetype": "text/x-python",
   "name": "python",
   "nbconvert_exporter": "python",
   "pygments_lexer": "ipython3",
   "version": "3.9.16"
  },
  "orig_nbformat": 4
 },
 "nbformat": 4,
 "nbformat_minor": 2
}
